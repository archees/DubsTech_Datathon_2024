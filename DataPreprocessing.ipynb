{
 "cells": [
  {
   "cell_type": "code",
   "execution_count": 28,
   "id": "938fbd99",
   "metadata": {},
   "outputs": [],
   "source": [
    "import pandas as pd\n",
    "import matplotlib.pyplot as plt"
   ]
  },
  {
   "cell_type": "code",
   "execution_count": 29,
   "id": "ec0b76c6-67ab-4bed-b1e1-6bf54cdda722",
   "metadata": {},
   "outputs": [],
   "source": [
    "df=pd.read_csv('Border_Crossing_Entry_Data.csv')"
   ]
  },
  {
   "cell_type": "code",
   "execution_count": 30,
   "id": "fecce673-9d8c-4fd7-a6c3-62ebc4e270fa",
   "metadata": {},
   "outputs": [
    {
     "data": {
      "text/html": [
       "<div>\n",
       "<style scoped>\n",
       "    .dataframe tbody tr th:only-of-type {\n",
       "        vertical-align: middle;\n",
       "    }\n",
       "\n",
       "    .dataframe tbody tr th {\n",
       "        vertical-align: top;\n",
       "    }\n",
       "\n",
       "    .dataframe thead th {\n",
       "        text-align: right;\n",
       "    }\n",
       "</style>\n",
       "<table border=\"1\" class=\"dataframe\">\n",
       "  <thead>\n",
       "    <tr style=\"text-align: right;\">\n",
       "      <th></th>\n",
       "      <th>Port Name</th>\n",
       "      <th>State</th>\n",
       "      <th>Port Code</th>\n",
       "      <th>Border</th>\n",
       "      <th>Date</th>\n",
       "      <th>Measure</th>\n",
       "      <th>Value</th>\n",
       "      <th>Latitude</th>\n",
       "      <th>Longitude</th>\n",
       "      <th>Point</th>\n",
       "    </tr>\n",
       "  </thead>\n",
       "  <tbody>\n",
       "    <tr>\n",
       "      <th>0</th>\n",
       "      <td>Roma</td>\n",
       "      <td>Texas</td>\n",
       "      <td>2310</td>\n",
       "      <td>US-Mexico Border</td>\n",
       "      <td>Dec 2023</td>\n",
       "      <td>Buses</td>\n",
       "      <td>46</td>\n",
       "      <td>26.404</td>\n",
       "      <td>-99.019</td>\n",
       "      <td>POINT (-99.018981 26.403928)</td>\n",
       "    </tr>\n",
       "    <tr>\n",
       "      <th>1</th>\n",
       "      <td>Del Rio</td>\n",
       "      <td>Texas</td>\n",
       "      <td>2302</td>\n",
       "      <td>US-Mexico Border</td>\n",
       "      <td>Dec 2023</td>\n",
       "      <td>Trucks</td>\n",
       "      <td>6552</td>\n",
       "      <td>29.327</td>\n",
       "      <td>-100.928</td>\n",
       "      <td>POINT (-100.927612 29.326784)</td>\n",
       "    </tr>\n",
       "    <tr>\n",
       "      <th>2</th>\n",
       "      <td>Roma</td>\n",
       "      <td>Texas</td>\n",
       "      <td>2310</td>\n",
       "      <td>US-Mexico Border</td>\n",
       "      <td>Nov 2023</td>\n",
       "      <td>Trucks</td>\n",
       "      <td>3753</td>\n",
       "      <td>26.404</td>\n",
       "      <td>-99.019</td>\n",
       "      <td>POINT (-99.018981 26.403928)</td>\n",
       "    </tr>\n",
       "    <tr>\n",
       "      <th>3</th>\n",
       "      <td>Douglas</td>\n",
       "      <td>Arizona</td>\n",
       "      <td>2601</td>\n",
       "      <td>US-Mexico Border</td>\n",
       "      <td>Oct 2023</td>\n",
       "      <td>Buses</td>\n",
       "      <td>13</td>\n",
       "      <td>31.334</td>\n",
       "      <td>-109.560</td>\n",
       "      <td>POINT (-109.560344 31.334043)</td>\n",
       "    </tr>\n",
       "    <tr>\n",
       "      <th>4</th>\n",
       "      <td>Beecher Falls</td>\n",
       "      <td>Vermont</td>\n",
       "      <td>206</td>\n",
       "      <td>US-Canada Border</td>\n",
       "      <td>Aug 2023</td>\n",
       "      <td>Trucks</td>\n",
       "      <td>422</td>\n",
       "      <td>45.013</td>\n",
       "      <td>-71.505</td>\n",
       "      <td>POINT (-71.505309 45.013411)</td>\n",
       "    </tr>\n",
       "  </tbody>\n",
       "</table>\n",
       "</div>"
      ],
      "text/plain": [
       "       Port Name    State  Port Code            Border      Date Measure  \\\n",
       "0           Roma    Texas       2310  US-Mexico Border  Dec 2023   Buses   \n",
       "1        Del Rio    Texas       2302  US-Mexico Border  Dec 2023  Trucks   \n",
       "2           Roma    Texas       2310  US-Mexico Border  Nov 2023  Trucks   \n",
       "3        Douglas  Arizona       2601  US-Mexico Border  Oct 2023   Buses   \n",
       "4  Beecher Falls  Vermont        206  US-Canada Border  Aug 2023  Trucks   \n",
       "\n",
       "   Value  Latitude  Longitude                          Point  \n",
       "0     46    26.404    -99.019   POINT (-99.018981 26.403928)  \n",
       "1   6552    29.327   -100.928  POINT (-100.927612 29.326784)  \n",
       "2   3753    26.404    -99.019   POINT (-99.018981 26.403928)  \n",
       "3     13    31.334   -109.560  POINT (-109.560344 31.334043)  \n",
       "4    422    45.013    -71.505   POINT (-71.505309 45.013411)  "
      ]
     },
     "execution_count": 30,
     "metadata": {},
     "output_type": "execute_result"
    }
   ],
   "source": [
    "df.head(5)"
   ]
  },
  {
   "cell_type": "code",
   "execution_count": 31,
   "id": "7d6f7215-6d2f-4359-b086-1ee48060a0c5",
   "metadata": {},
   "outputs": [],
   "source": [
    "df['Month']=df['Date'].str.split().str[0]"
   ]
  },
  {
   "cell_type": "code",
   "execution_count": 32,
   "id": "34d53a1b-8f5c-456c-945d-74f9cad7ead3",
   "metadata": {},
   "outputs": [],
   "source": [
    "df['Year']=df['Date'].str.split().str[1]"
   ]
  },
  {
   "cell_type": "code",
   "execution_count": 33,
   "id": "bb9134d6-42d9-4429-b799-9a226bc1ea66",
   "metadata": {},
   "outputs": [
    {
     "data": {
      "text/html": [
       "<div>\n",
       "<style scoped>\n",
       "    .dataframe tbody tr th:only-of-type {\n",
       "        vertical-align: middle;\n",
       "    }\n",
       "\n",
       "    .dataframe tbody tr th {\n",
       "        vertical-align: top;\n",
       "    }\n",
       "\n",
       "    .dataframe thead th {\n",
       "        text-align: right;\n",
       "    }\n",
       "</style>\n",
       "<table border=\"1\" class=\"dataframe\">\n",
       "  <thead>\n",
       "    <tr style=\"text-align: right;\">\n",
       "      <th></th>\n",
       "      <th>Port Name</th>\n",
       "      <th>State</th>\n",
       "      <th>Port Code</th>\n",
       "      <th>Border</th>\n",
       "      <th>Date</th>\n",
       "      <th>Measure</th>\n",
       "      <th>Value</th>\n",
       "      <th>Latitude</th>\n",
       "      <th>Longitude</th>\n",
       "      <th>Point</th>\n",
       "      <th>Month</th>\n",
       "      <th>Year</th>\n",
       "    </tr>\n",
       "  </thead>\n",
       "  <tbody>\n",
       "    <tr>\n",
       "      <th>0</th>\n",
       "      <td>Roma</td>\n",
       "      <td>Texas</td>\n",
       "      <td>2310</td>\n",
       "      <td>US-Mexico Border</td>\n",
       "      <td>Dec 2023</td>\n",
       "      <td>Buses</td>\n",
       "      <td>46</td>\n",
       "      <td>26.404</td>\n",
       "      <td>-99.019</td>\n",
       "      <td>POINT (-99.018981 26.403928)</td>\n",
       "      <td>Dec</td>\n",
       "      <td>2023</td>\n",
       "    </tr>\n",
       "    <tr>\n",
       "      <th>1</th>\n",
       "      <td>Del Rio</td>\n",
       "      <td>Texas</td>\n",
       "      <td>2302</td>\n",
       "      <td>US-Mexico Border</td>\n",
       "      <td>Dec 2023</td>\n",
       "      <td>Trucks</td>\n",
       "      <td>6552</td>\n",
       "      <td>29.327</td>\n",
       "      <td>-100.928</td>\n",
       "      <td>POINT (-100.927612 29.326784)</td>\n",
       "      <td>Dec</td>\n",
       "      <td>2023</td>\n",
       "    </tr>\n",
       "    <tr>\n",
       "      <th>2</th>\n",
       "      <td>Roma</td>\n",
       "      <td>Texas</td>\n",
       "      <td>2310</td>\n",
       "      <td>US-Mexico Border</td>\n",
       "      <td>Nov 2023</td>\n",
       "      <td>Trucks</td>\n",
       "      <td>3753</td>\n",
       "      <td>26.404</td>\n",
       "      <td>-99.019</td>\n",
       "      <td>POINT (-99.018981 26.403928)</td>\n",
       "      <td>Nov</td>\n",
       "      <td>2023</td>\n",
       "    </tr>\n",
       "    <tr>\n",
       "      <th>3</th>\n",
       "      <td>Douglas</td>\n",
       "      <td>Arizona</td>\n",
       "      <td>2601</td>\n",
       "      <td>US-Mexico Border</td>\n",
       "      <td>Oct 2023</td>\n",
       "      <td>Buses</td>\n",
       "      <td>13</td>\n",
       "      <td>31.334</td>\n",
       "      <td>-109.560</td>\n",
       "      <td>POINT (-109.560344 31.334043)</td>\n",
       "      <td>Oct</td>\n",
       "      <td>2023</td>\n",
       "    </tr>\n",
       "    <tr>\n",
       "      <th>4</th>\n",
       "      <td>Beecher Falls</td>\n",
       "      <td>Vermont</td>\n",
       "      <td>206</td>\n",
       "      <td>US-Canada Border</td>\n",
       "      <td>Aug 2023</td>\n",
       "      <td>Trucks</td>\n",
       "      <td>422</td>\n",
       "      <td>45.013</td>\n",
       "      <td>-71.505</td>\n",
       "      <td>POINT (-71.505309 45.013411)</td>\n",
       "      <td>Aug</td>\n",
       "      <td>2023</td>\n",
       "    </tr>\n",
       "  </tbody>\n",
       "</table>\n",
       "</div>"
      ],
      "text/plain": [
       "       Port Name    State  Port Code            Border      Date Measure  \\\n",
       "0           Roma    Texas       2310  US-Mexico Border  Dec 2023   Buses   \n",
       "1        Del Rio    Texas       2302  US-Mexico Border  Dec 2023  Trucks   \n",
       "2           Roma    Texas       2310  US-Mexico Border  Nov 2023  Trucks   \n",
       "3        Douglas  Arizona       2601  US-Mexico Border  Oct 2023   Buses   \n",
       "4  Beecher Falls  Vermont        206  US-Canada Border  Aug 2023  Trucks   \n",
       "\n",
       "   Value  Latitude  Longitude                          Point Month  Year  \n",
       "0     46    26.404    -99.019   POINT (-99.018981 26.403928)   Dec  2023  \n",
       "1   6552    29.327   -100.928  POINT (-100.927612 29.326784)   Dec  2023  \n",
       "2   3753    26.404    -99.019   POINT (-99.018981 26.403928)   Nov  2023  \n",
       "3     13    31.334   -109.560  POINT (-109.560344 31.334043)   Oct  2023  \n",
       "4    422    45.013    -71.505   POINT (-71.505309 45.013411)   Aug  2023  "
      ]
     },
     "execution_count": 33,
     "metadata": {},
     "output_type": "execute_result"
    }
   ],
   "source": [
    "df.head(5)"
   ]
  },
  {
   "cell_type": "code",
   "execution_count": 34,
   "id": "326de0f2-ac78-4a51-a367-3dc4c0f8f012",
   "metadata": {},
   "outputs": [],
   "source": [
    "df.to_csv('Border_Crossing.csv', index=False)"
   ]
  },
  {
   "cell_type": "code",
   "execution_count": 21,
   "id": "46cedd84-ffe2-48a5-aefb-bf6323434a8f",
   "metadata": {},
   "outputs": [
    {
     "data": {
      "text/plain": [
       "Index(['Port Name', 'State', 'Port Code', 'Border', 'Date', 'Measure', 'Value',\n",
       "       'Latitude', 'Longitude', 'Point', 'month', 'Year'],\n",
       "      dtype='object')"
      ]
     },
     "execution_count": 21,
     "metadata": {},
     "output_type": "execute_result"
    }
   ],
   "source": [
    "df.columns"
   ]
  },
  {
   "cell_type": "code",
   "execution_count": 38,
   "id": "399f460a-8dfb-477f-8efa-801593bc1718",
   "metadata": {},
   "outputs": [
    {
     "name": "stdout",
     "output_type": "stream",
     "text": [
      "Duplicated rows based on 'Port Name', 'State', 'Port Code', 'Month', and 'Year':\n",
      "             Port Name       State  Port Code            Border      Date  \\\n",
      "0                 Roma       Texas       2310  US-Mexico Border  Dec 2023   \n",
      "1              Del Rio       Texas       2302  US-Mexico Border  Dec 2023   \n",
      "2                 Roma       Texas       2310  US-Mexico Border  Nov 2023   \n",
      "3              Douglas     Arizona       2601  US-Mexico Border  Oct 2023   \n",
      "4        Beecher Falls     Vermont        206  US-Canada Border  Aug 2023   \n",
      "...                ...         ...        ...               ...       ...   \n",
      "391038        Oroville  Washington       3019  US-Canada Border  Mar 2024   \n",
      "391039       Lukeville     Arizona       2602  US-Mexico Border  Mar 2024   \n",
      "391040         Warroad   Minnesota       3423  US-Canada Border  Mar 2024   \n",
      "391041  Fort Fairfield       Maine        107  US-Canada Border  Mar 2024   \n",
      "391042   Calexico East  California       2507  US-Mexico Border  Mar 2024   \n",
      "\n",
      "                       Measure  Value  Latitude  Longitude  \\\n",
      "0                        Buses     46    26.404    -99.019   \n",
      "1                       Trucks   6552    29.327   -100.928   \n",
      "2                       Trucks   3753    26.404    -99.019   \n",
      "3                        Buses     13    31.334   -109.560   \n",
      "4                       Trucks    422    45.013    -71.505   \n",
      "...                        ...    ...       ...        ...   \n",
      "391038  Truck Containers Empty    755    49.000   -119.462   \n",
      "391039                  Trucks     70    31.880   -112.817   \n",
      "391040                   Buses     40    48.999    -95.377   \n",
      "391041             Pedestrians     39    46.765    -67.789   \n",
      "391042             Pedestrians  56301    32.673   -115.388   \n",
      "\n",
      "                                Point Month  Year  \n",
      "0        POINT (-99.018981 26.403928)   Dec  2023  \n",
      "1       POINT (-100.927612 29.326784)   Dec  2023  \n",
      "2        POINT (-99.018981 26.403928)   Nov  2023  \n",
      "3       POINT (-109.560344 31.334043)   Oct  2023  \n",
      "4        POINT (-71.505309 45.013411)   Aug  2023  \n",
      "...                               ...   ...   ...  \n",
      "391038  POINT (-119.461833 49.000083)   Mar  2024  \n",
      "391039  POINT (-112.817077 31.880195)   Mar  2024  \n",
      "391040      POINT (-95.376555 48.999)   Mar  2024  \n",
      "391041   POINT (-67.789471 46.765323)   Mar  2024  \n",
      "391042  POINT (-115.388018 32.673389)   Mar  2024  \n",
      "\n",
      "[390873 rows x 12 columns]\n"
     ]
    }
   ],
   "source": [
    "# Check for duplicated rows based on 'Port Name', 'State', 'Port Code', 'month', and 'Year'\n",
    "duplicates = df[df.duplicated(subset=['Port Name', 'State', 'Port Code', 'Month', 'Year'], keep=False)]\n",
    "\n",
    "# Display duplicated rows\n",
    "print(\"Duplicated rows based on 'Port Name', 'State', 'Port Code', 'Month', and 'Year':\")\n",
    "print(duplicates)"
   ]
  },
  {
   "cell_type": "code",
   "execution_count": 20,
   "id": "f9f51b87-0603-4adf-9a66-3655654fb3bf",
   "metadata": {},
   "outputs": [
    {
     "data": {
      "text/plain": [
       "Port Name    False\n",
       "State        False\n",
       "Port Code    False\n",
       "Border       False\n",
       "Date         False\n",
       "Measure      False\n",
       "Value        False\n",
       "Latitude     False\n",
       "Longitude    False\n",
       "Point        False\n",
       "month        False\n",
       "Year         False\n",
       "dtype: bool"
      ]
     },
     "execution_count": 20,
     "metadata": {},
     "output_type": "execute_result"
    }
   ],
   "source": [
    "df.isnull().any()"
   ]
  },
  {
   "cell_type": "code",
   "execution_count": null,
   "id": "1cb8de16-e286-4498-8605-3dc1c02b512b",
   "metadata": {},
   "outputs": [],
   "source": []
  },
  {
   "cell_type": "code",
   "execution_count": 27,
   "id": "e63e267c-21be-42fa-95e4-34747aa76d67",
   "metadata": {},
   "outputs": [
    {
     "data": {
      "image/png": "[encoded data removed]",
      "text/plain": [
       "<Figure size 1000x600 with 1 Axes>"
      ]
     },
     "metadata": {},
     "output_type": "display_data"
    }
   ],
   "source": [
    "measure_totals = df.groupby('Measure')['Value'].sum()\n",
    "\n",
    "# Plotting\n",
    "plt.figure(figsize=(10, 6))\n",
    "measure_totals.plot(kind='bar', color='skyblue')\n",
    "plt.title('Total Crossings by Measure')\n",
    "plt.xlabel('Measure')\n",
    "plt.ylabel('Total Crossings')\n",
    "plt.xticks(rotation=45, ha='right')\n",
    "plt.tight_layout()\n",
    "plt.show()"
   ]
  },
  {
   "cell_type": "code",
   "execution_count": 17,
   "id": "472cb735-c875-4aaf-bd98-187db63ea182",
   "metadata": {},
   "outputs": [
    {
     "data": {
      "text/plain": [
       "Measure\n",
       "Bus Passengers                  154327446\n",
       "Buses                             9234156\n",
       "Pedestrians                    1219921827\n",
       "Personal Vehicle Passengers    6168460727\n",
       "Personal Vehicles              2962942561\n",
       "Rail Containers Empty            28006635\n",
       "Rail Containers Loaded           49370325\n",
       "Train Passengers                  6936820\n",
       "Trains                            1059963\n",
       "Truck Containers Empty           81438845\n",
       "Truck Containers Loaded         227378531\n",
       "Trucks                          315730505\n",
       "Name: Value, dtype: int64"
      ]
     },
     "execution_count": 17,
     "metadata": {},
     "output_type": "execute_result"
    }
   ],
   "source": [
    "measure_totals"
   ]
  },
  {
   "cell_type": "code",
   "execution_count": 18,
   "id": "c3f648d4-9a70-46eb-be17-340df06d6f3e",
   "metadata": {},
   "outputs": [],
   "source": [
    "df.to_csv('Border_Crossing.csv', index=False)"
   ]
  },
  {
   "cell_type": "code",
   "execution_count": null,
   "id": "fe9194ae-601b-4cb8-8649-cae6b76cbc6c",
   "metadata": {},
   "outputs": [],
   "source": []
  }
 ],
 "metadata": {
  "kernelspec": {
   "display_name": "Python 3 (ipykernel)",
   "language": "python",
   "name": "python3"
  },
  "language_info": {
   "codemirror_mode": {
    "name": "ipython",
    "version": 3
   },
   "file_extension": ".py",
   "mimetype": "text/x-python",
   "name": "python",
   "nbconvert_exporter": "python",
   "pygments_lexer": "ipython3",
   "version": "3.11.9"
  }
 },
 "nbformat": 4,
 "nbformat_minor": 5
}
